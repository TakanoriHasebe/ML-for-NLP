{
 "cells": [
  {
   "cell_type": "markdown",
   "metadata": {},
   "source": [
    "## <font color='blue'>分類</font>"
   ]
  },
  {
   "cell_type": "markdown",
   "metadata": {},
   "source": [
    "クラスタリングでは、どのようなクラスタが出来上がるかわからなかった。<br>\n",
    "ただし、電子メールを「仕事」、「プライベート」、「スパム」というあらかじめ決まったグループに分けることを分類という。<br>\n",
    "どのようにして分類を行うか、どのようにして分類器を作成するかを考えていく<br>"
   ]
  },
  {
   "cell_type": "markdown",
   "metadata": {},
   "source": [
    "## <font color='blue'>分類器</font>"
   ]
  },
  {
   "cell_type": "markdown",
   "metadata": {
    "collapsed": true
   },
   "source": [
    "分類器の作り方には大きく分けて２種類ある。<br>\n",
    "<ol>\n",
    "<li>分類規則を人間が書く、規則ベース</li>\n",
    "<li>データから自動的に分類器を構築する、教師あり or 教師なし学習</li>\n",
    "</ol>"
   ]
  },
  {
   "cell_type": "markdown",
   "metadata": {},
   "source": [
    "## <font color='blue'>ナイーブベイズ分類器</font>"
   ]
  },
  {
   "cell_type": "markdown",
   "metadata": {},
   "source": [
    "ナイーブベイズ分類器は確率に基づいた分類器である。<br>\n",
    "事例$d$に対して、$P(c|d)$が最大となるクラス$c \\in C$を出力。<br>\n",
    "この<font color='red'>確率$P(c|d)$を算出するために様々な工夫をする。<br></font>"
   ]
  },
  {
   "cell_type": "markdown",
   "metadata": {},
   "source": [
    "まず、ベイズの定理と呼ばれる以下の性質を用いる。<br>\n",
    "### $P(c|d)= \\frac{P(c)P(d|c)}{P(d)}$\n",
    "上記の右辺が最大になるクラスを決定する。<br>\n",
    "ここで$P(d)$はクラスに依存しないので、最大値を求める式は以下のようになる。<br>\n",
    "### $c_{max} = arg\\max_{c} \\frac{P(c)P(d|c)}{P(d)} = arg\\max_{c} P(c)P(d|c)$\n",
    "<font color='red'>上記の$P(d|c)$を計算するのだが、単語の種類とその組み合わせを考えると、起こりうる$d$は膨大であるということが分かる。</font><br>\n",
    "<font color='red'>ナイーブベイズ分類器では、文章$d$に簡単化したモデルを仮定して、$P(d|c)$の値を算出する。</font><br>\n",
    "上記のモデルとして<font color='red'>多変数ベルヌーイと多項モデル</font>が存在する。<br>"
   ]
  },
  {
   "cell_type": "markdown",
   "metadata": {},
   "source": [
    "## <font color='blue'>多変数ベルヌーイモデル</font>"
   ]
  },
  {
   "cell_type": "markdown",
   "metadata": {},
   "source": [
    "多変数ベルヌーイモデルで、$P(d|c)$がどのように計算されるかを紹介する。<br>"
   ]
  },
  {
   "cell_type": "markdown",
   "metadata": {},
   "source": [
    "<ol>\n",
    "<li>モデルの導入</li>\n",
    "\n",
    "</ol>"
   ]
  },
  {
   "cell_type": "markdown",
   "metadata": {
    "collapsed": true
   },
   "source": [
    "単語の集合$V$について考える。<br>\n",
    "このモデルでは、$V$に含まれる各単語$w$とクラス$c$について、ベルヌーイ分布に従う確率変数$X_{w,c}$を考える。<br>"
   ]
  },
  {
   "cell_type": "markdown",
   "metadata": {},
   "source": [
    "単語$w$が出現すると1そうでないと、0になるとする。<br>\n",
    "$X_{w,c}$が1になる確率は$p_{w,c}$で表すことにする。<br>\n",
    "つまり、$p_{w,c}=P(X_{w,c} = 1)$である。<br>"
   ]
  },
  {
   "cell_type": "markdown",
   "metadata": {},
   "source": [
    "クラス$c$が与えられているときに各単語$w$が生起するするかどうかの<font color='red'>確率</font>は<br>\n",
    "### $p_{w,c}^{\\delta(w, d)}(1 - p_{w,c})^{1 - \\delta(w,d)}$\n",
    "で与えられる。<br>\n",
    "<font color='red'>ここで$\\delta(w, d)$は単語$w$が文章$d$に出現したときに1となり、そうでないときに0となる。</font><br>"
   ]
  },
  {
   "cell_type": "markdown",
   "metadata": {},
   "source": [
    "文章$d$の生起確率を数式で表すと<br>\n",
    "### $P(d|c) = \\prod_{w \\in V}p_{w,c}^{\\delta_{w,d}}(1 - p_{w,c})^{1-\\delta_{w,d}}$\n",
    "となる。<br>"
   ]
  },
  {
   "cell_type": "markdown",
   "metadata": {},
   "source": [
    "したがって、ナイーブベイズ分類器の多変数ベルヌーイモデルは<br>\n",
    "### $P(c)P(d|c) = p(c)\\prod_{w \\in V}(p_{w,c}^{\\delta_{w,d}}(1 - p_{w,c})^{1-\\delta_{w,d}})$\n",
    "を最大化する$c$を出力する。<br>"
   ]
  },
  {
   "cell_type": "markdown",
   "metadata": {
    "collapsed": true
   },
   "source": [
    "### <font color='blue'>多変数ベルヌーイモデルのパラメータの最尤推定</font>"
   ]
  },
  {
   "cell_type": "code",
   "execution_count": null,
   "metadata": {
    "collapsed": true
   },
   "outputs": [],
   "source": []
  }
 ],
 "metadata": {
  "kernelspec": {
   "display_name": "Python [conda root]",
   "language": "python",
   "name": "conda-root-py"
  },
  "language_info": {
   "codemirror_mode": {
    "name": "ipython",
    "version": 3
   },
   "file_extension": ".py",
   "mimetype": "text/x-python",
   "name": "python",
   "nbconvert_exporter": "python",
   "pygments_lexer": "ipython3",
   "version": "3.5.2"
  }
 },
 "nbformat": 4,
 "nbformat_minor": 2
}
