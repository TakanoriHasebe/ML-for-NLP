{
 "cells": [
  {
   "cell_type": "markdown",
   "metadata": {},
   "source": [
    "## <font color='blue'>基本的な約束事</font>"
   ]
  },
  {
   "cell_type": "markdown",
   "metadata": {},
   "source": [
    "パラメータ$p$を明記する場合は、$P(x;p)$のように、セミコロンの後ろに書くことにする。<br>"
   ]
  },
  {
   "cell_type": "markdown",
   "metadata": {},
   "source": [
    "## <font color='blue'>ベルヌーイ分布</font>\n",
    "確率$p$で\"Yes\"、確率$1-p$で\"No\"と発言する人がいるとする。<br>\n",
    "この人の発言１つ１つを確率的に記述するのがベルヌーイ分布である。<br>\n",
    "ベルヌーイ分布に従う確率変数$X$は、確率$p$で$a$、確率$1-p$で$b$の値をとるとする。<br>"
   ]
  },
  {
   "cell_type": "markdown",
   "metadata": {},
   "source": [
    "この時、確率$P(X=x;p)$は以下のよう<br>\n",
    "### $P(X = x;p) = \\delta(x, a)p + \\delta(x, b)(1 - p) = p^{\\delta(x, a)}(1 - p)^{1 - \\delta(x,a)}$<br>\n",
    "ここで、$\\delta(x, a)$はデルタ関数と呼ばれ、$x = a$で1、そうでないときは０になる。<br>"
   ]
  },
  {
   "cell_type": "markdown",
   "metadata": {},
   "source": [
    "## <font color='blue'>多変数ベルヌーイ分布</font>"
   ]
  },
  {
   "cell_type": "markdown",
   "metadata": {},
   "source": [
    "ベルヌーイ分布に従う確率変数を要素とする、確率変数ベクトルのこと。<br>"
   ]
  },
  {
   "cell_type": "markdown",
   "metadata": {},
   "source": [
    "例)<br>\n",
    "確率変数$X_{1}, X_{2}, ..., X_{m}$は互いに独立であるとする。<br>\n",
    "それぞれ確率$p_{1}, p_{2}, ..., p_{m}$で1をとり、確率$(1-p_{1}), (1-p_{2}), ..., (1-p_{m})$で0をとるとする。<br>\n",
    "このとき、確率変数ベクトル$\\mathbf{X} = (X_{1}, X_{2}, ..., X_{m})$を考えると、この$\\mathbf{X}$が従う分布が多変数ベルヌーイ分布である。<br>"
   ]
  },
  {
   "cell_type": "markdown",
   "metadata": {},
   "source": [
    "確率関数は以下のよう<br>\n",
    "### $P(\\mathbf{X} = \\mathbf{x};p_{1}, p_{2}, ..., p_{m}) = \\prod_{i=1}^{m}(\\delta(x_{i}, 1)p_{i}+\\delta(x_{i}, 0)(1-p_{i}))$"
   ]
  },
  {
   "cell_type": "code",
   "execution_count": null,
   "metadata": {
    "collapsed": true
   },
   "outputs": [],
   "source": []
  }
 ],
 "metadata": {
  "kernelspec": {
   "display_name": "Python [conda root]",
   "language": "python",
   "name": "conda-root-py"
  },
  "language_info": {
   "codemirror_mode": {
    "name": "ipython",
    "version": 3
   },
   "file_extension": ".py",
   "mimetype": "text/x-python",
   "name": "python",
   "nbconvert_exporter": "python",
   "pygments_lexer": "ipython3",
   "version": "3.5.2"
  }
 },
 "nbformat": 4,
 "nbformat_minor": 2
}
